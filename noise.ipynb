{
 "cells": [
  {
   "cell_type": "code",
   "execution_count": 1,
   "metadata": {},
   "outputs": [
    {
     "name": "stdout",
     "output_type": "stream",
     "text": [
      "Noise reduction for images complete.\n"
     ]
    }
   ],
   "source": [
    "import cv2\n",
    "import os\n",
    "\n",
    "# Input and output directories\n",
    "input_dir = \"C:\\\\Users\\\\Acer\\\\Desktop\\\\Model\\\\photos\"\n",
    "output_dir = \"C:\\\\Users\\\\Acer\\\\Desktop\\\\Model\\\\nonoise\"\n",
    "os.makedirs(output_dir, exist_ok=True)\n",
    "\n",
    "# Denoising images\n",
    "for image_name in os.listdir(input_dir):\n",
    "    image_path = os.path.join(input_dir, image_name)\n",
    "    img = cv2.imread(image_path)\n",
    "\n",
    "    # Apply Gaussian Blur\n",
    "    denoised_img = cv2.GaussianBlur(img, (5, 5), 0)\n",
    "\n",
    "    # Save the denoised image\n",
    "    output_path = os.path.join(output_dir, image_name)\n",
    "    cv2.imwrite(output_path, denoised_img)\n",
    "\n",
    "print(\"Noise reduction for images complete.\")\n"
   ]
  },
  {
   "cell_type": "code",
   "execution_count": null,
   "metadata": {},
   "outputs": [],
   "source": []
  }
 ],
 "metadata": {
  "kernelspec": {
   "display_name": "env",
   "language": "python",
   "name": "python3"
  },
  "language_info": {
   "codemirror_mode": {
    "name": "ipython",
    "version": 3
   },
   "file_extension": ".py",
   "mimetype": "text/x-python",
   "name": "python",
   "nbconvert_exporter": "python",
   "pygments_lexer": "ipython3",
   "version": "3.12.2"
  }
 },
 "nbformat": 4,
 "nbformat_minor": 2
}
