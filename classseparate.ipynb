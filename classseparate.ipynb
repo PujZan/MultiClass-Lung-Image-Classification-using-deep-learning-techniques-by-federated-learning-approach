{
 "cells": [
  {
   "cell_type": "code",
   "execution_count": 1,
   "metadata": {},
   "outputs": [],
   "source": [
    "import os\n",
    "import shutil\n",
    "import pandas as pd"
   ]
  },
  {
   "cell_type": "code",
   "execution_count": 7,
   "metadata": {},
   "outputs": [
    {
     "name": "stdout",
     "output_type": "stream",
     "text": [
      "Images have been successfully separated into corresponding class folders.\n"
     ]
    }
   ],
   "source": [
    "import os\n",
    "import shutil\n",
    "import pandas as pd\n",
    "\n",
    "# Configuration\n",
    "csv_file = \"C:\\\\Users\\\\Acer\\\\Desktop\\\\Model\\\\Dataset.csv\"  # Path to the CSV file\n",
    "data_folder = \"C:\\\\Users\\\\Acer\\\\Desktop\\\\Model\\\\photos\"  # Path to the dataset folder\n",
    "output_folder = \"C:\\\\Users\\\\Acer\\\\Desktop\\\\Model\\\\SortedImages\"  # Path to the output folder\n",
    "\n",
    "# Ensure the output folder exists\n",
    "os.makedirs(output_folder, exist_ok=True)\n",
    "\n",
    "# Read the CSV file\n",
    "data = pd.read_csv(csv_file)\n",
    "\n",
    "# Verify CSV columns\n",
    "if not {\"Image Index\", \"Label\"}.issubset(data.columns):\n",
    "    raise ValueError(\"The CSV file must contain 'Image Index' and 'Label' columns.\")\n",
    "\n",
    "# Remove rows where the label contains multiple classes (comma or pipe-separated)\n",
    "data = data[~data['Label'].str.contains('[,|]', regex=True)]\n",
    "\n",
    "# Loop through the filtered dataset\n",
    "for _, row in data.iterrows():\n",
    "    filename = row['Image Index']\n",
    "    label = row['Label']\n",
    "    \n",
    "    # Construct full file paths\n",
    "    source_path = os.path.join(data_folder, filename)\n",
    "    label_folder = os.path.join(output_folder, label)  # Create folder for the class\n",
    "\n",
    "    # Ensure the label folder exists\n",
    "    os.makedirs(label_folder, exist_ok=True)\n",
    "\n",
    "    # Move the file to the corresponding class folder\n",
    "    if os.path.exists(source_path):\n",
    "        shutil.copy(source_path, label_folder)  # Use shutil.copy to avoid modifying original data\n",
    "    else:\n",
    "        print(f\"Warning: File {source_path} does not exist and will be skipped.\")\n",
    "\n",
    "print(\"Images have been successfully separated into corresponding class folders.\")\n"
   ]
  },
  {
   "cell_type": "code",
   "execution_count": null,
   "metadata": {},
   "outputs": [],
   "source": []
  }
 ],
 "metadata": {
  "kernelspec": {
   "display_name": "env",
   "language": "python",
   "name": "python3"
  },
  "language_info": {
   "codemirror_mode": {
    "name": "ipython",
    "version": 3
   },
   "file_extension": ".py",
   "mimetype": "text/x-python",
   "name": "python",
   "nbconvert_exporter": "python",
   "pygments_lexer": "ipython3",
   "version": "3.12.2"
  }
 },
 "nbformat": 4,
 "nbformat_minor": 2
}
