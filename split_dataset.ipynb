{
 "cells": [
  {
   "cell_type": "code",
   "execution_count": null,
   "metadata": {},
   "outputs": [
    {
     "name": "stdout",
     "output_type": "stream",
     "text": [
      "Dataset successfully split into train, val, and test sets!\n"
     ]
    }
   ],
   "source": [
    "import os\n",
    "import shutil\n",
    "from sklearn.model_selection import train_test_split\n",
    "\n",
    "# Paths\n",
    "dataset_dir = \"C:\\\\Users\\\\Acer\\\\Desktop\\\\Model\\\\new\"  # Update with your dataset folder\n",
    "output_dir = \"C:\\\\Users\\\\Acer\\\\Desktop\\\\Model\\\\splitted\"  # Update with your desired output folder\n",
    "train_dir = os.path.join(output_dir, \"train\")\n",
    "val_dir = os.path.join(output_dir, \"val\")\n",
    "test_dir = os.path.join(output_dir, \"test\")\n",
    "\n",
    "# Create output directories\n",
    "for folder in [train_dir, val_dir, test_dir]:\n",
    "    os.makedirs(folder, exist_ok=True)\n",
    "\n",
    "# Function to split and copy files\n",
    "def split_and_copy(class_name, images, train_ratio=0.7, val_ratio=0.15):\n",
    "    train_images, temp_images = train_test_split(images, test_size=(1 - train_ratio), random_state=42)\n",
    "    val_images, test_images = train_test_split(temp_images, test_size=(val_ratio / (1 - train_ratio)), random_state=42)\n",
    "\n",
    "    for img, folder in [(train_images, train_dir), (val_images, val_dir), (test_images, test_dir)]:\n",
    "        class_folder = os.path.join(folder, class_name)\n",
    "        os.makedirs(class_folder, exist_ok=True)\n",
    "        for img_path in img:\n",
    "            shutil.copy(img_path, os.path.join(class_folder, os.path.basename(img_path)))\n",
    "\n",
    "# Process each class\n",
    "for class_name in os.listdir(dataset_dir):\n",
    "    class_path = os.path.join(dataset_dir, class_name)\n",
    "    if os.path.isdir(class_path):  # Check if it's a folder\n",
    "        images = [os.path.join(class_path, img) for img in os.listdir(class_path) if img.endswith(('.png', '.jpg', '.jpeg'))]\n",
    "        split_and_copy(class_name, images)\n",
    "\n",
    "print(\"Dataset successfully split into train, val, and test sets!\")"
   ]
  },
  {
   "cell_type": "code",
   "execution_count": null,
   "metadata": {},
   "outputs": [],
   "source": []
  }
 ],
 "metadata": {
  "kernelspec": {
   "display_name": "env",
   "language": "python",
   "name": "python3"
  },
  "language_info": {
   "codemirror_mode": {
    "name": "ipython",
    "version": 3
   },
   "file_extension": ".py",
   "mimetype": "text/x-python",
   "name": "python",
   "nbconvert_exporter": "python",
   "pygments_lexer": "ipython3",
   "version": "3.12.2"
  }
 },
 "nbformat": 4,
 "nbformat_minor": 2
}
