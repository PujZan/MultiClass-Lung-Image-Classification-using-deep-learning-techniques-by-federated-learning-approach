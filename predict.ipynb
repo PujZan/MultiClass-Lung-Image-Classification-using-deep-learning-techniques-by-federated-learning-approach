{
 "cells": [
  {
   "cell_type": "code",
   "execution_count": 2,
   "metadata": {},
   "outputs": [],
   "source": [
    "import torch\n",
    "from torchvision import transforms\n",
    "from PIL import Image\n",
    "import os\n",
    "from torchvision import models,transforms\n",
    "import torch.nn as nn"
   ]
  },
  {
   "cell_type": "code",
   "execution_count": 3,
   "metadata": {},
   "outputs": [],
   "source": [
    "device = torch.device(\"cuda\" if torch.cuda.is_available() else \"cpu\")"
   ]
  },
  {
   "cell_type": "code",
   "execution_count": 4,
   "metadata": {},
   "outputs": [],
   "source": [
    "# Define a custom ResNet model with added dropout and a fully connected layer\n",
    "class CustomResNet(nn.Module):\n",
    "    def __init__(self, num_classes):\n",
    "        super(CustomResNet, self).__init__()\n",
    "        self.model = models.resnet101(weights=models.ResNet101_Weights.IMAGENET1K_V2)\n",
    "        self.model.fc = nn.Sequential(\n",
    "            nn.Linear(self.model.fc.in_features, 512),\n",
    "            nn.ReLU(),\n",
    "            nn.Dropout(0.5),\n",
    "            nn.Linear(512, num_classes)\n",
    "        )\n",
    "    \n",
    "    def forward(self, x):\n",
    "        return self.model(x)"
   ]
  },
  {
   "cell_type": "code",
   "execution_count": 10,
   "metadata": {},
   "outputs": [
    {
     "name": "stdout",
     "output_type": "stream",
     "text": [
      "Predicted Class: Nodule\n"
     ]
    }
   ],
   "source": [
    "\n",
    "# Function to load the model (assuming you have already trained it)\n",
    "def load_model(model_path, num_classes):\n",
    "    model = CustomResNet(num_classes=num_classes)  # Make sure the class matches the one you used for training\n",
    "    model.load_state_dict(torch.load(model_path, weights_only=True))\n",
    "    model.eval()  # Set the model to evaluation mode\n",
    "    return model\n",
    "\n",
    "# Define a function to preprocess an image for prediction\n",
    "def preprocess_image(image_path):\n",
    "    transform = transforms.Compose([\n",
    "        transforms.Resize((224, 224)),\n",
    "        transforms.ToTensor(),\n",
    "        transforms.Normalize([0.485, 0.456, 0.406], [0.229, 0.224, 0.225]),\n",
    "    ])\n",
    "    \n",
    "    image = Image.open(image_path).convert('RGB')  # Ensure the image is in RGB mode\n",
    "    image = transform(image).unsqueeze(0)  # Add batch dimension (unsqueeze)\n",
    "    \n",
    "    return image\n",
    "\n",
    "# Function to make a prediction\n",
    "def predict_image(model, image_path, classes):\n",
    "    image = preprocess_image(image_path)\n",
    "    \n",
    "    with torch.no_grad():  # Disable gradient computation for inference\n",
    "        image = image.to(device)  # Move image to GPU if available\n",
    "        outputs = model(image)\n",
    "        _, predicted_class = torch.max(outputs, 1)\n",
    "    \n",
    "    predicted_class = predicted_class.item()  # Convert tensor to integer\n",
    "    predicted_label = classes[predicted_class]\n",
    "    \n",
    "    return predicted_label\n",
    "\n",
    "# Example usage\n",
    "def main():\n",
    "    model_path = 'newmodel.pth'  # Path to your trained model\n",
    "    classes = ['Atelectasis', 'Covid19', 'Emphysema', 'Consolidation', 'Cardiomegaly', 'Infiltration', 'Nodule', 'Pneumonia', 'NORMAL', 'Pneumothorax']\n",
    "    \n",
    "    # Load the trained model\n",
    "    model = load_model(model_path, num_classes=len(classes))\n",
    "    model.to(device)  # Move model to GPU if available\n",
    "    \n",
    "    # Example image for prediction\n",
    "    image_path = 'C:\\\\Users\\\\Acer\\\\Desktop\\\\Model\\\\image\\\\nodule.png'  # Provide path to the image you want to classify\n",
    "    \n",
    "    predicted_label = predict_image(model, image_path, classes)\n",
    "    print(f\"Predicted Class: {predicted_label}\")\n",
    "\n",
    "if __name__ == \"__main__\":\n",
    "    main()\n"
   ]
  },
  {
   "cell_type": "code",
   "execution_count": null,
   "metadata": {},
   "outputs": [],
   "source": []
  }
 ],
 "metadata": {
  "kernelspec": {
   "display_name": "env",
   "language": "python",
   "name": "python3"
  },
  "language_info": {
   "codemirror_mode": {
    "name": "ipython",
    "version": 3
   },
   "file_extension": ".py",
   "mimetype": "text/x-python",
   "name": "python",
   "nbconvert_exporter": "python",
   "pygments_lexer": "ipython3",
   "version": "3.12.2"
  }
 },
 "nbformat": 4,
 "nbformat_minor": 2
}
