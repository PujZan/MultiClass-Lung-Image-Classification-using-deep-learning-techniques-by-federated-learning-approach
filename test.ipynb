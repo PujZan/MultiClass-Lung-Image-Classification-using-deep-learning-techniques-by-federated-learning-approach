{
 "cells": [
  {
   "cell_type": "code",
   "execution_count": 1,
   "metadata": {},
   "outputs": [],
   "source": [
    "import torch\n",
    "import torch.nn as nn\n",
    "import numpy as np\n",
    "from sklearn.metrics import accuracy_score, classification_report\n",
    "from torch.utils.data import DataLoader\n",
    "from torchvision import models,transforms  # Add this import at the top\n",
    "from tqdm import tqdm  # For progress bar\n",
    "import os\n",
    "from PIL import Image\n"
   ]
  },
  {
   "cell_type": "code",
   "execution_count": 2,
   "metadata": {},
   "outputs": [],
   "source": [
    "device = torch.device(\"cuda\" if torch.cuda.is_available() else \"cpu\")"
   ]
  },
  {
   "cell_type": "code",
   "execution_count": 3,
   "metadata": {},
   "outputs": [],
   "source": [
    "# Define a custom ResNet model with added dropout and a fully connected layer\n",
    "class CustomResNet(nn.Module):\n",
    "    def __init__(self, num_classes):\n",
    "        super(CustomResNet, self).__init__()\n",
    "        self.model = models.resnet101(weights=models.ResNet101_Weights.IMAGENET1K_V2)\n",
    "        self.model.fc = nn.Sequential(\n",
    "            nn.Linear(self.model.fc.in_features, 512),\n",
    "            nn.ReLU(),\n",
    "            nn.Dropout(0.5),\n",
    "            nn.Linear(512, num_classes)\n",
    "        )\n",
    "    \n",
    "    def forward(self, x):\n",
    "        return self.model(x)"
   ]
  },
  {
   "cell_type": "code",
   "execution_count": 4,
   "metadata": {},
   "outputs": [],
   "source": [
    "# Define dataset class\n",
    "class LungImageDataset(torch.utils.data.Dataset):\n",
    "    def __init__(self, dataset_folder, classes, transform=None):\n",
    "        self.dataset_folder = dataset_folder\n",
    "        self.transform = transform\n",
    "        self.classes = classes\n",
    "        self.data = self._load_data()\n",
    "\n",
    "    def _load_data(self):\n",
    "        data = []\n",
    "        label_mapping = {class_name: idx for idx, class_name in enumerate(self.classes)}\n",
    "\n",
    "        for class_name in self.classes:\n",
    "            class_folder = os.path.join(self.dataset_folder, class_name)\n",
    "            if os.path.isdir(class_folder):\n",
    "                for img_name in os.listdir(class_folder):\n",
    "                    img_path = os.path.join(class_folder, img_name)\n",
    "                    if os.path.isfile(img_path):\n",
    "                        data.append((img_path, label_mapping[class_name]))\n",
    "\n",
    "        print(f\"Loaded {len(data)} images from {self.dataset_folder}\")\n",
    "        return data\n",
    "\n",
    "    def __len__(self):\n",
    "        return len(self.data)\n",
    "\n",
    "    def __getitem__(self, idx):\n",
    "        img_path, label = self.data[idx]\n",
    "        image = Image.open(img_path).convert('RGB')\n",
    "        if self.transform:\n",
    "            image = self.transform(image)\n",
    "        return image, torch.tensor(label, dtype=torch.long)"
   ]
  },
  {
   "cell_type": "code",
   "execution_count": 5,
   "metadata": {},
   "outputs": [
    {
     "name": "stdout",
     "output_type": "stream",
     "text": [
      "Loaded 7408 images from C:\\Users\\Acer\\Desktop\\Model\\Split\\test\n"
     ]
    },
    {
     "name": "stderr",
     "output_type": "stream",
     "text": [
      "C:\\Users\\Acer\\AppData\\Local\\Temp\\ipykernel_16048\\3774374154.py:44: FutureWarning: You are using `torch.load` with `weights_only=False` (the current default value), which uses the default pickle module implicitly. It is possible to construct malicious pickle data which will execute arbitrary code during unpickling (See https://github.com/pytorch/pytorch/blob/main/SECURITY.md#untrusted-models for more details). In a future release, the default value for `weights_only` will be flipped to `True`. This limits the functions that could be executed during unpickling. Arbitrary objects will no longer be allowed to be loaded via this mode unless they are explicitly allowlisted by the user via `torch.serialization.add_safe_globals`. We recommend you start setting `weights_only=True` for any use case where you don't have full control of the loaded file. Please open an issue on GitHub for any issues related to this experimental feature.\n",
      "  model.load_state_dict(torch.load(\"newmodel.pth\"))\n",
      "Testing: 100%|██████████| 232/232 [02:03<00:00,  1.87it/s]"
     ]
    },
    {
     "name": "stdout",
     "output_type": "stream",
     "text": [
      "Test Accuracy: 93.39%\n",
      "Classification Report:\n",
      "               precision    recall  f1-score   support\n",
      "\n",
      "  Atelectasis       0.80      0.86      0.83       758\n",
      "      Covid19       0.99      1.00      0.99       669\n",
      "    Emphysema       0.98      0.99      0.99       747\n",
      "Consolidation       0.96      0.99      0.98       763\n",
      " Cardiomegaly       0.96      0.99      0.98       777\n",
      " Infiltration       0.78      0.72      0.75       748\n",
      "       Nodule       0.91      0.86      0.89       746\n",
      "    Pneumonia       1.00      0.99      0.99       742\n",
      "       NORMAL       0.99      1.00      1.00       713\n",
      " Pneumothorax       0.96      0.94      0.95       745\n",
      "\n",
      "     accuracy                           0.93      7408\n",
      "    macro avg       0.93      0.93      0.93      7408\n",
      " weighted avg       0.93      0.93      0.93      7408\n",
      "\n",
      "Final Test Accuracy: 93.39%\n"
     ]
    },
    {
     "name": "stderr",
     "output_type": "stream",
     "text": [
      "\n"
     ]
    }
   ],
   "source": [
    "def test(model, test_loader, device):\n",
    "    model.eval()  # Set model to evaluation mode\n",
    "    all_labels = []\n",
    "    all_preds = []\n",
    "\n",
    "    with torch.no_grad():  # Disable gradient calculation for testing\n",
    "        for images, labels in tqdm(test_loader, desc=\"Testing\"):\n",
    "            images, labels = images.to(device), labels.to(device)\n",
    "\n",
    "            # Get model predictions\n",
    "            outputs = model(images)\n",
    "            _, predicted = torch.max(outputs, 1)\n",
    "\n",
    "            # Collect labels and predictions\n",
    "            all_labels.extend(labels.cpu().numpy())\n",
    "            all_preds.extend(predicted.cpu().numpy())\n",
    "\n",
    "    # Calculate accuracy\n",
    "    accuracy = accuracy_score(all_labels, all_preds)\n",
    "    print(f\"Test Accuracy: {accuracy * 100:.2f}%\")\n",
    "\n",
    "    # Optional: Classification report (precision, recall, f1-score)\n",
    "    print(\"Classification Report:\")\n",
    "    print(classification_report(all_labels, all_preds, target_names=test_loader.dataset.classes))\n",
    "\n",
    "    return accuracy\n",
    "\n",
    "def main():\n",
    "    # Same setup as training, but load the best model and test data\n",
    "    dataset_folder = \"C:\\\\Users\\\\Acer\\\\Desktop\\\\Model\\\\Split\"\n",
    "    classes = ['Atelectasis', 'Covid19', 'Emphysema', 'Consolidation', 'Cardiomegaly', 'Infiltration', 'Nodule', 'Pneumonia', 'NORMAL', 'Pneumothorax']\n",
    "\n",
    "    transform = transforms.Compose([\n",
    "        transforms.Resize((224, 224)),\n",
    "        transforms.ToTensor(),\n",
    "        transforms.Normalize([0.485, 0.456, 0.406], [0.229, 0.224, 0.225]),\n",
    "    ])\n",
    "\n",
    "    test_dataset = LungImageDataset(dataset_folder=os.path.join(dataset_folder, \"test\"), classes=classes, transform=transform)\n",
    "    test_loader = DataLoader(test_dataset, batch_size=32, shuffle=False)\n",
    "\n",
    "    # Load the best model\n",
    "    model = CustomResNet(num_classes=len(classes)).to(device)\n",
    "    model.load_state_dict(torch.load(\"newmodel.pth\"))\n",
    "\n",
    "    # Test the model\n",
    "    test_accuracy = test(model, test_loader, device)\n",
    "    print(f\"Final Test Accuracy: {test_accuracy * 100:.2f}%\")\n",
    "\n",
    "if __name__ == \"__main__\":\n",
    "    main()\n"
   ]
  },
  {
   "cell_type": "code",
   "execution_count": null,
   "metadata": {},
   "outputs": [],
   "source": []
  }
 ],
 "metadata": {
  "kernelspec": {
   "display_name": "env",
   "language": "python",
   "name": "python3"
  },
  "language_info": {
   "codemirror_mode": {
    "name": "ipython",
    "version": 3
   },
   "file_extension": ".py",
   "mimetype": "text/x-python",
   "name": "python",
   "nbconvert_exporter": "python",
   "pygments_lexer": "ipython3",
   "version": "3.12.2"
  }
 },
 "nbformat": 4,
 "nbformat_minor": 2
}
